{
 "cells": [
  {
   "cell_type": "markdown",
   "metadata": {},
   "source": [
    "# Elo model\n",
    "\n",
    "Reads in historical data we downloaded from football-data.co.uk and builds a predictive model for the Premiership season 2016-2017 based on past Elo ratings. There are some initial parameters that need to be looked at in more detail to get better results. We can also add things such as home advantage, goals scored etc. to the Elo update rule which would hopefully give better results.\n",
    "\n",
    "### Parameters to tune:\n",
    "\n",
    "- What season do we start calculating Elo? (call this the \"training\" part of the model)\n",
    "- Elo K-factor adjustment, affects how a team's Elo gets rescaled upon win/losing\n",
    "- Elo initialisation differences to capture the difference in skill between leagues "
   ]
  },
  {
   "cell_type": "markdown",
   "metadata": {},
   "source": [
    "# Import data"
   ]
  },
  {
   "cell_type": "code",
   "execution_count": 1,
   "metadata": {
    "collapsed": false
   },
   "outputs": [
    {
     "name": "stdout",
     "output_type": "stream",
     "text": [
      "prem_0910.csv\n",
      "prem_1314.csv\n",
      "league_1_0910.csv\n",
      "champ_0910.csv\n",
      "league_2_1213.csv\n",
      "league_2_1112.csv\n",
      "champ_1314.csv\n",
      "prem_1617.csv\n",
      "league_1_1112.csv\n",
      "league_1_1213.csv\n",
      "league_2_1011.csv\n",
      "league_2_1516.csv\n",
      "league_2_1415.csv\n",
      "league_1_1011.csv\n",
      "league_1_1415.csv\n",
      "league_2_0910.csv\n",
      "prem_1011.csv\n",
      "prem_1213.csv\n",
      "league_2_1617.csv\n",
      "champ_1011.csv\n",
      "champ_1213.csv\n",
      "champ_1516.csv\n",
      "league_1_1617.csv\n",
      "prem_1112.csv\n",
      "champ_1415.csv\n",
      "champ_1112.csv\n",
      "champ_1617.csv\n",
      "league_1_1314.csv\n",
      "league_1_1516.csv\n",
      "league_2_1314.csv\n",
      "prem_1415.csv\n",
      "prem_1516.csv\n",
      "=========\n",
      "           AwayTeam       Date Div FTAG FTHG FTR HTAG HTHG HTR       HomeTeam  \\\n",
      "0  Sheffield United 2009-08-07  E1    0    0   D    0    0   D  Middlesbrough   \n",
      "1         Peterboro 2009-08-08  E1    1    2   H    0    1   H          Derby   \n",
      "2           Swansea 2009-08-08  E1    1    2   H    1    0   A      Leicester   \n",
      "3      Bristol City 2009-08-08  E1    2    2   D    0    0   D        Preston   \n",
      "4         Blackpool 2009-08-08  E1    1    1   D    1    0   A            QPR   \n",
      "\n",
      "  Season  \n",
      "0   0910  \n",
      "1   0910  \n",
      "2   0910  \n",
      "3   0910  \n",
      "4   0910  \n"
     ]
    }
   ],
   "source": [
    "import os\n",
    "import pandas as pd\n",
    "import numpy as np\n",
    "data_path = \"./data/\" \n",
    "dic = {}\n",
    "\n",
    "cols = [\"Div\",\"Date\",\"HomeTeam\",\"AwayTeam\",\n",
    "       \"FTHG\",\"FTAG\",\"FTR\",\"HTHG\",\"HTAG\",\"HTR\"\n",
    "]\n",
    "\n",
    "matches = pd.DataFrame(None,columns=cols) # Empty dataframe we'll add the data to\n",
    "\n",
    "for f in [x for x in os.listdir(data_path)]: #if \"prem\" in x]:\n",
    "    print(f)\n",
    "    results_df = pd.read_csv(data_path+f,usecols=cols,parse_dates=True)\n",
    "    results_df = results_df.dropna(how=\"all\") # kill empty last rows, below tests this isn't deleting any matches\n",
    "    \n",
    "    if f.split(\"_\")[0] == \"prem\": # premiership, 20 teams play each other twice, 20*19 total matches\n",
    "        assert len(results_df) == 20*19\n",
    "    else:\n",
    "        assert len(results_df) == 24*23 # lower leagues, 24 teams play 2x, 24*23 total\n",
    "    \n",
    "    results_df[\"Season\"] = (f.split(\"_\")[-1].split(\".\")[0])\n",
    "    results_df[\"Season\"] = results_df[\"Season\"]\n",
    "    \n",
    "    matches = pd.concat([results_df,matches])\n",
    "\n",
    "# reorder data by date\n",
    "matches[\"Date\"] = pd.to_datetime(matches[\"Date\"],dayfirst=True)\n",
    "matches = matches.sort_values(by=\"Date\")\n",
    "matches = matches.reset_index(drop=True)\n",
    "print(\"===\"*3)\n",
    "print(matches.head())"
   ]
  },
  {
   "cell_type": "markdown",
   "metadata": {},
   "source": [
    "# Train model\n",
    "\n",
    "Initalise Elo for each team depending on its league (higher league = higher initial Elo). Run through some past match data to update this to more accurate values (not too far into the past though, we want to capture recent form with a higher priority so limit to last few seasons only).\n",
    "\n",
    "We will predict for the Premiership season 2016-2017."
   ]
  },
  {
   "cell_type": "code",
   "execution_count": 64,
   "metadata": {
    "collapsed": true
   },
   "outputs": [],
   "source": [
    "# Elo update function\n",
    "\n",
    "k = 20 # k_factor, scales ELO change, 32 = chess k_factor\n",
    "\n",
    "def update_elo(r1,r2,result):\n",
    "    \n",
    "    q1 = 10**(r1/400)\n",
    "    q2 = 10**(r2/400)\n",
    "\n",
    "    e1 =  q1/(q1 + q2)# expected value home wins\n",
    "    e2 =  q2/(q1 + q2) \n",
    "\n",
    "    if result == \"H\":\n",
    "        s1 = 1\n",
    "        s2 = 0\n",
    "    elif result == \"D\":\n",
    "        s1 = 0.5\n",
    "        s2 = 0.5\n",
    "    elif result == \"A\":\n",
    "        s1 = 0\n",
    "        s2 = 1\n",
    "        \n",
    "    r1 = r1 + k*(s1 - e1)\n",
    "    r2 = r2 + k*(s2 - e2)\n",
    "    return r1, r2"
   ]
  },
  {
   "cell_type": "code",
   "execution_count": 97,
   "metadata": {
    "collapsed": false
   },
   "outputs": [],
   "source": [
    "### PARAMETERS\n",
    "train_start_date = pd.to_datetime(\"01/08/2014\",dayfirst=True)\n",
    "predict_start_date = pd.to_datetime(\"01/08/2016\",dayfirst=True)\n",
    "#####\n",
    "\n",
    "# initialise ELOs, scale for league\n",
    "starting_league = matches.loc[matches[\"Season\"] == matches[\"Season\"].min()] # Earliest season\n",
    "teams_init = {}\n",
    "for team in matches[\"HomeTeam\"].unique():\n",
    "    if team not in list(teams_init.keys()):\n",
    "        try:\n",
    "            team_starting_league = starting_league.loc[starting_league[\"HomeTeam\"] == team][\"Div\"].mode()[0]\n",
    "#             print(team_starting_league)\n",
    "            if team_starting_league == \"E3\":\n",
    "                teams_init[team] = 250\n",
    "            elif team_starting_league == \"E2\":\n",
    "                teams_init[team] = 500\n",
    "            elif team_starting_league == \"E1\":\n",
    "                teams_init[team] = 1500\n",
    "            elif team_starting_league == \"E0\":\n",
    "                teams_init[team] = 2000\n",
    "        except: #must be lower than conference, give 0\n",
    "            teams_init[team] = 0\n",
    "            \n",
    "# Setup train/test split\n",
    "historical_matches = matches.loc[(matches[\"Date\"] < predict_start_date)&(matches[\"Date\"] >= train_start_date)]\n",
    "# Get 2016-2017 premiership matches\n",
    "future_matches = matches.loc[matches[\"Date\"] >= predict_start_date] # 2016-2017 season\n",
    "future_matches = future_matches.loc[future_matches[\"Div\"] == \"E0\"] # get premiership matches only\n",
    "\n",
    "# Run through past matches, update Elo for everyone\n",
    "for index,match in historical_matches.iterrows():\n",
    "    home_team = match[\"HomeTeam\"]\n",
    "    away_team = match[\"AwayTeam\"]\n",
    "    rating_home = teams_init[home_team]\n",
    "    rating_away = teams_init[away_team]\n",
    "    \n",
    "    teams_init[home_team], teams_init[away_team] = update_elo(rating_home,rating_away,match[\"FTR\"])"
   ]
  },
  {
   "cell_type": "markdown",
   "metadata": {},
   "source": [
    "## Predict on 16/17\n"
   ]
  },
  {
   "cell_type": "code",
   "execution_count": 98,
   "metadata": {
    "collapsed": false,
    "scrolled": false
   },
   "outputs": [],
   "source": [
    "home_elo_boost = 75 # home advantage\n",
    "\n",
    "import copy\n",
    "\n",
    "iters = 1000 # number of season simulations to run \n",
    "\n",
    "prem_teams = future_matches[\"HomeTeam\"].unique() # list of premiership teams, used for creating dataframes\n",
    "simulation_results = pd.DataFrame(index=prem_teams) # holds results, we will append to this\n",
    "\n",
    "for j in range(iters):\n",
    "\n",
    "    table = {team : 0 for team in prem_teams} # initialise league table \n",
    "    \n",
    "    teams = copy.deepcopy(teams_init) # makes sure we are resetting the Elo at the start of each season\n",
    "    \n",
    "    for index,match in future_matches[[\"HomeTeam\",\"AwayTeam\"]].iterrows(): # run simulation\n",
    "\n",
    "        home_team = match[\"HomeTeam\"]\n",
    "        away_team = match[\"AwayTeam\"]\n",
    "        rating_home = teams[home_team] + home_elo_boost\n",
    "        rating_away = teams[away_team]\n",
    "\n",
    "        q_home = 10**(rating_home/400)\n",
    "        q_away = 10**(rating_away/400)\n",
    "\n",
    "        e_home =  q_home/(q_home + q_away)# expected value home wins\n",
    "        e_away =  q_away/(q_home + q_away) \n",
    "\n",
    "        ## \n",
    "        probabilities = [e_home**2,2*e_home*e_away,e_away**2] # Square e_home+e_away to make up p_draw - Elo DOESNT give you this by default\n",
    "        result = np.random.choice([\"H\",\"D\",\"A\"],p=probabilities)\n",
    "        teams[home_team], teams[away_team] = update_elo(teams[home_team],teams[away_team],result)\n",
    "\n",
    "        #Update league table\n",
    "        if result == \"H\":\n",
    "            table[home_team] += 3\n",
    "        elif result == \"A\":\n",
    "            table[away_team] += 3\n",
    "        elif result == \"D\":\n",
    "            table[home_team] += 1\n",
    "            table[away_team] += 1\n",
    "\n",
    "    # add this simulated season results to our records\n",
    "    table = pd.DataFrame(table,index=range(1)).T.sort_values(by=0,ascending=False)\n",
    "    table.columns = [j]\n",
    "    simulation_results = pd.concat([simulation_results,table],axis=1)"
   ]
  },
  {
   "cell_type": "code",
   "execution_count": 99,
   "metadata": {
    "collapsed": false
   },
   "outputs": [],
   "source": [
    "# Take mean over all simulations\n",
    "simulated_table = simulation_results.mean(axis=1).astype(int).sort_values(ascending=False).reset_index()\n",
    "simulated_table.columns = [\"Sim_team\",\"Sim_pts\"]"
   ]
  },
  {
   "cell_type": "markdown",
   "metadata": {},
   "source": [
    "## Get actual results"
   ]
  },
  {
   "cell_type": "code",
   "execution_count": 100,
   "metadata": {
    "collapsed": false
   },
   "outputs": [
    {
     "name": "stdout",
     "output_type": "stream",
     "text": [
      "          Sim_team  Sim_pts        Act_team  Act_pts\n",
      "0          Arsenal       77         Chelsea       93\n",
      "1        Tottenham       73       Tottenham       86\n",
      "2       Man United       72        Man City       78\n",
      "3         Man City       72       Liverpool       76\n",
      "4          Chelsea       70         Arsenal       75\n",
      "5        Liverpool       67      Man United       69\n",
      "6         West Ham       64         Everton       61\n",
      "7        Leicester       62     Bournemouth       46\n",
      "8            Stoke       57     Southampton       46\n",
      "9          Everton       54       West Brom       45\n",
      "10      Sunderland       52        West Ham       45\n",
      "11         Burnley       47       Leicester       44\n",
      "12         Swansea       46           Stoke       44\n",
      "13       West Brom       40  Crystal Palace       41\n",
      "14            Hull       37         Swansea       41\n",
      "15  Crystal Palace       37         Burnley       40\n",
      "16         Watford       34         Watford       40\n",
      "17   Middlesbrough       26            Hull       34\n",
      "18     Southampton       10   Middlesbrough       28\n",
      "19     Bournemouth        2      Sunderland       24\n"
     ]
    }
   ],
   "source": [
    "# Creates actual results table from the real 2016-2017 premiership season, prints comparison\n",
    "\n",
    "actual_table = {team: 0 for team in prem_teams}\n",
    "\n",
    "for index,match in future_matches[[\"HomeTeam\",\"AwayTeam\",\"FTR\"]].iterrows():\n",
    "\n",
    "    home_team = match[\"HomeTeam\"]\n",
    "    away_team = match[\"AwayTeam\"]\n",
    "    result = match[\"FTR\"]\n",
    "\n",
    "    if result == \"H\":\n",
    "        actual_table[home_team] += 3\n",
    "    elif result == \"A\":\n",
    "        actual_table[away_team] += 3\n",
    "    elif result == \"D\":\n",
    "        actual_table[home_team] += 1\n",
    "        actual_table[away_team] += 1\n",
    "        \n",
    "actual_table = pd.DataFrame(actual_table,index=range(1)).T.sort_values(by=0,ascending=False).reset_index()\n",
    "actual_table.columns = [\"Act_team\",\"Act_pts\"]\n",
    "res = pd.concat([simulated_table,actual_table],axis=1)\n",
    "print(res)"
   ]
  },
  {
   "cell_type": "code",
   "execution_count": 101,
   "metadata": {
    "collapsed": false
   },
   "outputs": [
    {
     "data": {
      "text/plain": [
       "(array([ 0.,  1.,  4.,  3.,  3.,  2.,  1.]),\n",
       " array([-20, -15, -10,  -5,   0,   5,  10,  15]),\n",
       " <a list of 7 Patch objects>)"
      ]
     },
     "execution_count": 101,
     "metadata": {},
     "output_type": "execute_result"
    },
    {
     "data": {
      "image/png": "[encoded data removed]",
      "text/plain": [
       "<matplotlib.figure.Figure at 0x7fcb5329b8d0>"
      ]
     },
     "metadata": {},
     "output_type": "display_data"
    }
   ],
   "source": [
    "import matplotlib.pylab as plt\n",
    "%matplotlib inline\n",
    "# (simulated_table.to_dict())\n",
    "diff = simulated_table.sort_values(by=\"Sim_team\")[\"Sim_pts\"].values - actual_table.sort_values(by=\"Act_team\")[\"Act_pts\"].values\n",
    "plt.hist(diff,bins=range(-20,20,5))"
   ]
  },
  {
   "cell_type": "code",
   "execution_count": 102,
   "metadata": {
    "collapsed": false
   },
   "outputs": [
    {
     "data": {
      "text/plain": [
       "[<matplotlib.lines.Line2D at 0x7fcb531045c0>]"
      ]
     },
     "execution_count": 102,
     "metadata": {},
     "output_type": "execute_result"
    },
    {
     "data": {
      "image/png": "[encoded data removed]",
      "text/plain": [
       "<matplotlib.figure.Figure at 0x7fcb53126080>"
      ]
     },
     "metadata": {},
     "output_type": "display_data"
    }
   ],
   "source": [
    "plt.plot(simulated_table.sort_values(by=\"Sim_team\")[\"Sim_pts\"].values,diff,\"o\")"
   ]
  },
  {
   "cell_type": "code",
   "execution_count": null,
   "metadata": {
    "collapsed": false
   },
   "outputs": [],
   "source": []
  },
  {
   "cell_type": "code",
   "execution_count": null,
   "metadata": {
    "collapsed": true
   },
   "outputs": [],
   "source": []
  }
 ],
 "metadata": {
  "kernelspec": {
   "display_name": "Python [Root]",
   "language": "python",
   "name": "Python [Root]"
  },
  "language_info": {
   "codemirror_mode": {
    "name": "ipython",
    "version": 3
   },
   "file_extension": ".py",
   "mimetype": "text/x-python",
   "name": "python",
   "nbconvert_exporter": "python",
   "pygments_lexer": "ipython3",
   "version": "3.5.2"
  }
 },
 "nbformat": 4,
 "nbformat_minor": 2
}
