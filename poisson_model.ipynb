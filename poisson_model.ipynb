{
 "cells": [
  {
   "cell_type": "markdown",
   "metadata": {},
   "source": [
    "# Poisson model\n",
    "Create Poisson model for goals scored for each team, see https://www.pinnacle.com/en/betting-articles/soccer/how-to-calculate-poisson-distribution\n"
   ]
  },
  {
   "cell_type": "code",
   "execution_count": 24,
   "metadata": {},
   "outputs": [
    {
     "name": "stdout",
     "output_type": "stream",
     "text": [
      "prem_0910.csv\n",
      "prem_1314.csv\n",
      "league_1_0910.csv\n",
      "champ_0910.csv\n",
      "league_2_1213.csv\n",
      "league_2_1112.csv\n",
      "champ_1314.csv\n",
      "prem_1617.csv\n",
      "league_1_1112.csv\n",
      "league_1_1213.csv\n",
      "league_2_1011.csv\n",
      "league_2_1516.csv\n",
      "league_2_1415.csv\n",
      "league_1_1011.csv\n",
      "league_1_1415.csv\n",
      "league_2_0910.csv\n",
      "prem_1011.csv\n",
      "prem_1213.csv\n",
      "league_2_1617.csv\n",
      "champ_1011.csv\n",
      "champ_1213.csv\n",
      "champ_1516.csv\n",
      "league_1_1617.csv\n",
      "prem_1112.csv\n",
      "champ_1415.csv\n",
      "champ_1112.csv\n",
      "champ_1617.csv\n",
      "league_1_1314.csv\n",
      "league_1_1516.csv\n",
      "league_2_1314.csv\n",
      "prem_1415.csv\n",
      "prem_1516.csv\n",
      "=========\n",
      "           AwayTeam       Date Div FTAG FTHG FTR HTAG HTHG HTR       HomeTeam  \\\n",
      "0  Sheffield United 2009-08-07  E1    0    0   D    0    0   D  Middlesbrough   \n",
      "1         Peterboro 2009-08-08  E1    1    2   H    0    1   H          Derby   \n",
      "2           Swansea 2009-08-08  E1    1    2   H    1    0   A      Leicester   \n",
      "3      Bristol City 2009-08-08  E1    2    2   D    0    0   D        Preston   \n",
      "4         Blackpool 2009-08-08  E1    1    1   D    1    0   A            QPR   \n",
      "\n",
      "  Season  \n",
      "0   0910  \n",
      "1   0910  \n",
      "2   0910  \n",
      "3   0910  \n",
      "4   0910  \n"
     ]
    }
   ],
   "source": [
    "import os\n",
    "import pandas as pd\n",
    "import numpy as np\n",
    "import matplotlib.pylab as plt\n",
    "import seaborn as sns\n",
    "%matplotlib inline \n",
    "\n",
    "data_path = \"./data/\" \n",
    "dic = {}\n",
    "\n",
    "cols = [\"Div\",\"Date\",\"HomeTeam\",\"AwayTeam\",\n",
    "       \"FTHG\",\"FTAG\",\"FTR\",\"HTHG\",\"HTAG\",\"HTR\"\n",
    "]\n",
    "\n",
    "matches = pd.DataFrame(None,columns=cols) # Empty dataframe we'll add the data to\n",
    "\n",
    "for f in [x for x in os.listdir(data_path)]: #if \"prem\" in x]:\n",
    "    print(f)\n",
    "    results_df = pd.read_csv(data_path+f,usecols=cols,parse_dates=True)\n",
    "    results_df = results_df.dropna(how=\"all\") # kill empty last rows, below tests this isn't deleting any matches\n",
    "    \n",
    "    if f.split(\"_\")[0] == \"prem\": # premiership, 20 teams play each other twice, 20*19 total matches\n",
    "        assert len(results_df) == 20*19\n",
    "    else:\n",
    "        assert len(results_df) == 24*23 # lower leagues, 24 teams play 2x, 24*23 total\n",
    "    \n",
    "    results_df[\"Season\"] = (f.split(\"_\")[-1].split(\".\")[0])\n",
    "    results_df[\"Season\"] = results_df[\"Season\"]\n",
    "    \n",
    "    matches = pd.concat([results_df,matches])\n",
    "\n",
    "# reorder data by date\n",
    "matches[\"Date\"] = pd.to_datetime(matches[\"Date\"],dayfirst=True)\n",
    "matches = matches.sort_values(by=\"Date\")\n",
    "matches = matches.reset_index(drop=True)\n",
    "print(\"===\"*3)\n",
    "print(matches.head())"
   ]
  },
  {
   "cell_type": "markdown",
   "metadata": {},
   "source": [
    "# Train model"
   ]
  },
  {
   "cell_type": "code",
   "execution_count": 40,
   "metadata": {},
   "outputs": [],
   "source": [
    "### PARAMETERS\n",
    "train_season = \"1516\"\n",
    "predict_season = \"1617\"\n",
    "#####\n",
    "\n",
    "# find starting season from train_start_date\n",
    "train_season_matches = matches.loc[matches[\"Season\"] == train_season]\n",
    "\n",
    "# Get 2016-2017 premiership matches\n",
    "predict_season_matches = matches.loc[matches[\"Season\"] == predict_season]# 2016-2017 season\n",
    "\n",
    "## Initialise attack/def for teams\n",
    "team_stats = {}\n",
    "for team in matches[\"HomeTeam\"].unique():\n",
    "    if team not in list(team_stats.keys()):\n",
    "        team_stats[team] = {\"home_att\" : 1, \"home_def\" : 1, \"away_att\" : 1, \"away_def\" : 1}\n",
    "\n",
    "### TRAINING\n",
    "# 1 - Find total goals scored home/away for each league in training set\n",
    "league_goals = {}\n",
    "for div in train_season_matches[\"Div\"].unique():\n",
    "    div_matches = train_season_matches.loc[train_season_matches[\"Div\"] == div]\n",
    "    league_goals[div] = {}\n",
    "    league_goals[div][\"Home goals scored\"] = div_matches[\"FTHG\"].sum()/len(div_matches)\n",
    "    league_goals[div][\"Away goals scored\"] = div_matches[\"FTAG\"].sum()/len(div_matches)\n",
    "    # Conceded is simply the above swapped\n",
    "    league_goals[div][\"Home goals conceded\"] = league_goals[div][\"Away goals scored\"]\n",
    "    league_goals[div][\"Away goals conceded\"] = league_goals[div][\"Home goals scored\"]\n",
    "\n",
    "    \n",
    "# Run through all teams and their goals in training season, update attack/defence ratings\n",
    "for team in pd.concat([train_season_matches,predict_season_matches])[\"HomeTeam\"].unique():\n",
    "    \n",
    "    home_matches = train_season_matches.loc[train_season_matches[\"HomeTeam\"] == team]\n",
    "    away_matches = train_season_matches.loc[train_season_matches[\"AwayTeam\"] == team]\n",
    "    \n",
    "    # Team is present in training set, if not then they must be promoted so ignore\n",
    "    # this leaves att/def as default vals of 1.0, 1.0    \n",
    "    if len(set(home_matches[\"Div\"])) == 1:\n",
    "        starting_division = home_matches[\"Div\"].iloc[0]\n",
    "        total_home_goals = home_matches[\"FTHG\"].sum()/len(home_matches)\n",
    "        team_stats[team][\"home_att\"] = total_home_goals/league_goals[starting_division][\"Home goals scored\"]\n",
    "        \n",
    "        total_away_goals = away_matches[\"FTAG\"].sum()/len(away_matches)\n",
    "        team_stats[team][\"away_att\"] = total_away_goals/league_goals[starting_division][\"Away goals scored\"]\n",
    "\n",
    "        total_home_conceded = home_matches[\"FTAG\"].sum()/len(home_matches)\n",
    "        team_stats[team][\"home_def\"] = total_home_conceded/league_goals[starting_division][\"Home goals conceded\"]\n",
    "        \n",
    "        total_away_conceded = away_matches[\"FTHG\"].sum()/len(away_matches)\n",
    "        team_stats[team][\"away_def\"] = total_away_conceded/league_goals[starting_division][\"Away goals conceded\"]\n",
    "        \n",
    "        #print(team,team_stats[team])"
   ]
  },
  {
   "cell_type": "markdown",
   "metadata": {},
   "source": [
    "# Testing"
   ]
  },
  {
   "cell_type": "code",
   "execution_count": 73,
   "metadata": {},
   "outputs": [
    {
     "name": "stdout",
     "output_type": "stream",
     "text": [
      "          0         1         2         3         4         5\n",
      "0  0.086291  0.071242  0.029408  0.008093  0.001670  0.000276\n",
      "1  0.140175  0.115727  0.047772  0.013147  0.002713  0.000448\n",
      "2  0.113852  0.093995  0.038801  0.010678  0.002204  0.000364\n",
      "3  0.061648  0.050896  0.021010  0.005782  0.001193  0.000197\n",
      "4  0.025036  0.020669  0.008532  0.002348  0.000485  0.000080\n",
      "5  0.008134  0.006715  0.002772  0.000763  0.000157  0.000026\n",
      "[1] [0]\n"
     ]
    }
   ],
   "source": [
    "import math\n",
    "\n",
    "def poisson(mu,k):\n",
    "    return np.exp(-mu) * (mu**k) / math.factorial(k)\n",
    "\n",
    "\n",
    "for ix, match in predict_season_matches.iterrows():\n",
    "    home_team = match[\"HomeTeam\"]\n",
    "    away_team = match[\"AwayTeam\"]\n",
    "    div = match[\"Div\"]\n",
    "    \n",
    "    home_stats = team_stats[home_team]\n",
    "    away_stats = team_stats[away_team]\n",
    "    league_stats = league_goals[div]\n",
    "\n",
    "    # Mean home goals = Home Att * Away Def * Avg goals for division\n",
    "    expected_home_goals = home_stats[\"home_att\"]*away_stats[\"away_def\"]*league_stats[\"Home goals scored\"]\n",
    "    expected_away_goals = home_stats[\"home_def\"]*away_stats[\"away_att\"]*league_stats[\"Away goals scored\"]    \n",
    "    \n",
    "    max_goals = 5\n",
    "#     probability_matrix = np.zeros(shape=(max_goals,max_goals))\n",
    "    \n",
    "    home_goals_dist = np.array([poisson(expected_home_goals,k) for k in range(max_goals+1)])\n",
    "    away_goals_dist = np.array([poisson(expected_away_goals,k) for k in range(max_goals+1)])\n",
    "\n",
    "    prob_matrix = np.outer(home_goals_dist,away_goals_dist) # HOME GOALS = ROWS\n",
    "    \n",
    "    home_goals, away_goals = list(np.where(prob_matrix == prob_matrix.max()))\n",
    "    \n",
    "    if home_team == \"Tottenham\" and away_team == \"Everton\": # check against pinnacle.com poisson example\n",
    "        print(pd.DataFrame(prob_matrix))\n",
    "        print(home_goals,away_goals)\n",
    "        #         print(expected_home_goals,expected_away_goals) # yep fine\n",
    "#         for k in range(5):\n",
    "#             print(poisson(expected_home_goals,k)) # also fine\n",
    "#             print(poisson(expected_away_goals,k)) # FINE"
   ]
  },
  {
   "cell_type": "code",
   "execution_count": 39,
   "metadata": {},
   "outputs": [
    {
     "data": {
      "text/plain": [
       "[<matplotlib.lines.Line2D at 0x7f78ca464588>]"
      ]
     },
     "execution_count": 39,
     "metadata": {},
     "output_type": "execute_result"
    },
    {
     "data": {
      "image/png": "[encoded data removed]",
      "text/plain": [
       "<matplotlib.figure.Figure at 0x7f78ca8e8940>"
      ]
     },
     "metadata": {},
     "output_type": "display_data"
    }
   ],
   "source": [
    "df = pd.DataFrame(team_stats).T\n",
    "plt.figure(figsize=(12,8))\n",
    "plt.plot(df[\"home_att\"],df[\"home_def\"],'o')"
   ]
  }
 ],
 "metadata": {
  "anaconda-cloud": {},
  "kernelspec": {
   "display_name": "Python [Root]",
   "language": "python",
   "name": "Python [Root]"
  },
  "language_info": {
   "codemirror_mode": {
    "name": "ipython",
    "version": 3
   },
   "file_extension": ".py",
   "mimetype": "text/x-python",
   "name": "python",
   "nbconvert_exporter": "python",
   "pygments_lexer": "ipython3",
   "version": "3.5.2"
  }
 },
 "nbformat": 4,
 "nbformat_minor": 2
}
